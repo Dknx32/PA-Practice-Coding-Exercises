{
 "cells": [
  {
   "cell_type": "code",
   "execution_count": null,
   "metadata": {},
   "outputs": [],
   "source": [
    "\n",
    "file_pointer = open(\"upregulated_genes_30min.txt\",\"r\")\n",
    "my_dict = dict()\n",
    "while True:\n",
    "    line_1 = file_pointer.readline()\n",
    "    line_2 = file_pointer.readline()\n",
    "\n",
    "    line_1 = line_1.strip(\"\\n>\")\n",
    "\n",
    "    my_dict[line_1] = line_2\n",
    "\n",
    "    if not line_2:\n",
    "        break\n",
    "\n",
    "key = input(\"Key: \")\n",
    "a = input(\"Length: \")\n",
    "b = input(\"Step size: \")\n",
    "c = ''\n",
    "\n",
    "if a.isdigit() and b.isdigit() and int(a)>0 and int(b)>0:\n",
    "    if int(a) >= int(b):\n",
    "        for i in range (0, len(my_dict[key]), int(b)-1):\n",
    "            if i+int(b)<len(my_dict[key]):\n",
    "                if int(a) - len(my_dict[key][i:i+int(a)]) == 1:\n",
    "                    c += my_dict[key][i:]\n",
    "                    break\n",
    "                c += my_dict[key][i:i+int(a)] + \",\"\n",
    "            elif i+int(b) == len(my_dict[key]):\n",
    "                c += my_dict[key][i:]\n",
    "        with open(key+\".txt\", mode = \"w\") as f:\n",
    "            f.write(c)\n",
    "    else:\n",
    "        print(\"The step size must be lower than the length\")           \n",
    " \n",
    "else:\n",
    "    print(\"The length and step size must be a natural number and higher than 0\")"
   ]
  }
 ],
 "metadata": {
  "kernelspec": {
   "display_name": "Python 3.9.13 ('base')",
   "language": "python",
   "name": "python3"
  },
  "language_info": {
   "name": "python",
   "version": "3.9.13"
  },
  "orig_nbformat": 4,
  "vscode": {
   "interpreter": {
    "hash": "1f4a739e69d5dbeffd7d8f36fed3768a3f4fa70f6a7d4aa5673046ec872a38a2"
   }
  }
 },
 "nbformat": 4,
 "nbformat_minor": 2
}
