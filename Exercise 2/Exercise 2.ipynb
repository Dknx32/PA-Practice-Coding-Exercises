{
 "cells": [
  {
   "cell_type": "code",
   "execution_count": 3,
   "metadata": {},
   "outputs": [
    {
     "name": "stdout",
     "output_type": "stream",
     "text": [
      "asdfghuyadfhjodfas\n"
     ]
    }
   ],
   "source": [
    "\n",
    "file_pointer = open(\"upregulated_genes_30min.txt\",\"r\")\n",
    "my_dict = dict()\n",
    "while True:\n",
    "    line_1 = file_pointer.readline()\n",
    "    line_2 = file_pointer.readline()\n",
    "\n",
    "    line_1 = line_1.strip(\"\\n>\")\n",
    "\n",
    "    my_dict[line_1] = line_2\n",
    "\n",
    "    if not line_2:\n",
    "        break\n",
    "flag = 0\n",
    "key = input(\"Key: \")\n",
    "if key not in my_dict:\n",
    "    print(\"asdfghuyadfhjodfas\")\n",
    "    flag = 1\n",
    "\n",
    "\n",
    "a = input(\"Length: \")\n",
    "b = input(\"Step size: \")\n",
    "c = ''\n",
    "if flag == 0:\n",
    "    if a.isdigit() and b.isdigit() and int(a)>0 and int(b)>0:\n",
    "        if int(a) >= int(b):\n",
    "            for i in range (0, len(my_dict[key]), int(b)-1):\n",
    "                if i+int(b)<len(my_dict[key]):\n",
    "                    if int(a) - len(my_dict[key][i:i+int(a)]) == 1:\n",
    "                        c += my_dict[key][i:]\n",
    "                        break\n",
    "                    c += my_dict[key][i:i+int(a)] + \",\"\n",
    "                elif i+int(b) == len(my_dict[key]):\n",
    "                    c += my_dict[key][i:]\n",
    "            with open(key+\".txt\", mode = \"w\") as f:\n",
    "                f.write(c)\n",
    "        else:\n",
    "            print(\"The step size must be lower than the length\")           \n",
    "    else:\n",
    "        print(\"The length and step size must be a natural number and higher than 0\")"
   ]
  }
 ],
 "metadata": {
  "kernelspec": {
   "display_name": "Python 3.9.13 ('base')",
   "language": "python",
   "name": "python3"
  },
  "language_info": {
   "codemirror_mode": {
    "name": "ipython",
    "version": 3
   },
   "file_extension": ".py",
   "mimetype": "text/x-python",
   "name": "python",
   "nbconvert_exporter": "python",
   "pygments_lexer": "ipython3",
   "version": "3.9.13"
  },
  "orig_nbformat": 4,
  "vscode": {
   "interpreter": {
    "hash": "ad2bdc8ecc057115af97d19610ffacc2b4e99fae6737bb82f5d7fb13d2f2c186"
   }
  }
 },
 "nbformat": 4,
 "nbformat_minor": 2
}
